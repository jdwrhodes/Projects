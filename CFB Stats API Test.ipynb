{
 "cells": [
  {
   "cell_type": "code",
   "execution_count": 6,
   "metadata": {},
   "outputs": [],
   "source": [
    "import requests\n",
    "import pandas as pd\n",
    "import json\n",
    "from pprint import pprint"
   ]
  },
  {
   "cell_type": "code",
   "execution_count": 3,
   "metadata": {},
   "outputs": [],
   "source": [
    "# Testing api and json call to store data\n",
    "# API Reference https://api.collegefootballdata.com/api/docs/?url=/api-docs.json#/\n",
    "url = 'https://api.collegefootballdata.com/'\n",
    "test_url = 'https://api.collegefootballdata.com/records?year=2020&team=texas%20a%26m&conference=sec'\n"
   ]
  },
  {
   "cell_type": "code",
   "execution_count": 10,
   "metadata": {},
   "outputs": [],
   "source": [
    "test_get = requests.get(test_url).json()"
   ]
  },
  {
   "cell_type": "code",
   "execution_count": 11,
   "metadata": {},
   "outputs": [
    {
     "name": "stdout",
     "output_type": "stream",
     "text": [
      "[{'awayGames': {'games': 5, 'losses': 1, 'ties': 0, 'wins': 4},\n",
      "  'conference': 'SEC',\n",
      "  'conferenceGames': {'games': 9, 'losses': 1, 'ties': 0, 'wins': 8},\n",
      "  'division': 'West',\n",
      "  'homeGames': {'games': 4, 'losses': 0, 'ties': 0, 'wins': 4},\n",
      "  'team': 'Texas A&M',\n",
      "  'total': {'games': 10, 'losses': 1, 'ties': 0, 'wins': 9},\n",
      "  'year': 2020}]\n"
     ]
    }
   ],
   "source": [
    "pprint(test_get)"
   ]
  },
  {
   "cell_type": "code",
   "execution_count": null,
   "metadata": {},
   "outputs": [],
   "source": []
  }
 ],
 "metadata": {
  "kernelspec": {
   "display_name": "PythonData",
   "language": "python",
   "name": "pythondata"
  },
  "language_info": {
   "codemirror_mode": {
    "name": "ipython",
    "version": 3
   },
   "file_extension": ".py",
   "mimetype": "text/x-python",
   "name": "python",
   "nbconvert_exporter": "python",
   "pygments_lexer": "ipython3",
   "version": "3.7.9"
  }
 },
 "nbformat": 4,
 "nbformat_minor": 4
}
