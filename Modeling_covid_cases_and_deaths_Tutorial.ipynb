{
 "cells": [
  {
   "cell_type": "markdown",
   "metadata": {},
   "source": [
    "# Modeling Covid Cases and Deaths with Python by Ted Petrou\n",
    "\n",
    "**Topics**\n",
    "\n",
    "* Dashboard Overview\n",
    "* Data Smoothing\n",
    "* Modeling with \"S\"-shaped curves\n",
    "* Ensemble Modeling"
   ]
  },
  {
   "cell_type": "markdown",
   "metadata": {},
   "source": [
    "## Dashboard Overview\n",
    "\n",
    "* https://coronavirus.dunderdata.com"
   ]
  },
  {
   "cell_type": "markdown",
   "metadata": {},
   "source": [
    "## Data Source\n",
    "\n",
    "* https://github.com/CSSEGISandData/COVID-19\n",
    "* cleaned\n",
    "* cumulative"
   ]
  },
  {
   "cell_type": "markdown",
   "metadata": {},
   "source": [
    "### Read in last 150 days of USA cases"
   ]
  },
  {
   "cell_type": "code",
   "execution_count": null,
   "metadata": {},
   "outputs": [],
   "source": [
    "import numpy as np\n",
    "import pandas as pd\n",
    "import matplotlib.pyplot as plt\n",
    "plt.style.use('dashboard.mplstyle')\n",
    "pd.set_option('display.max_columns', None)\n",
    "\n",
    "usa_cases = pd.read_csv('data/usa_cases.csv').iloc[-150:]\n",
    "usa_cases.tail(3)"
   ]
  },
  {
   "cell_type": "code",
   "execution_count": null,
   "metadata": {},
   "outputs": [],
   "source": []
  },
  {
   "cell_type": "markdown",
   "metadata": {},
   "source": [
    "# Data Smoothing"
   ]
  },
  {
   "cell_type": "code",
   "execution_count": null,
   "metadata": {},
   "outputs": [],
   "source": [
    "texas = usa_cases['Texas']\n",
    "texas.tail(3)"
   ]
  },
  {
   "cell_type": "markdown",
   "metadata": {},
   "source": [
    "### Cumulative graph\n",
    "\n",
    "* looks smooth"
   ]
  },
  {
   "cell_type": "code",
   "execution_count": null,
   "metadata": {},
   "outputs": [],
   "source": [
    "texas.plot();"
   ]
  },
  {
   "cell_type": "markdown",
   "metadata": {},
   "source": [
    "### Daily graph\n",
    "\n",
    "* not smooth\n",
    "* reporting oddities"
   ]
  },
  {
   "cell_type": "code",
   "execution_count": null,
   "metadata": {},
   "outputs": [],
   "source": [
    "texas_daily = texas.diff().dropna()\n",
    "texas_daily.plot(title='Texas Daily Cases');"
   ]
  },
  {
   "cell_type": "markdown",
   "metadata": {},
   "source": [
    "### Smoothing techniques\n",
    "\n",
    "* rolling average\n",
    "* lowess"
   ]
  },
  {
   "cell_type": "code",
   "execution_count": null,
   "metadata": {},
   "outputs": [],
   "source": [
    "texas_daily.plot(label='actual');\n",
    "texas_smoothed = texas_daily.rolling(7, min_periods=1, center=True).mean()\n",
    "texas_smoothed.plot(title='Smoothed Texas Daily Cases', label='smoothed');"
   ]
  },
  {
   "cell_type": "code",
   "execution_count": null,
   "metadata": {},
   "outputs": [],
   "source": [
    "for i in range(3):\n",
    "    texas_smoothed = texas_smoothed.rolling(7, min_periods=1, center=True).mean()\n",
    "\n",
    "texas_daily.plot(label='actual')\n",
    "texas_smoothed.plot(title='Texas Daily Cases - Repeated Rolling Average Smoothed', label='smoothed').legend();"
   ]
  },
  {
   "cell_type": "code",
   "execution_count": null,
   "metadata": {},
   "outputs": [],
   "source": [
    "texas_cumulative_smoothed = texas_smoothed.cumsum() + texas.iloc[0]\n",
    "texas.plot(label='actual', title='Texas Cumulative Cases - Rolling Average Smoothed')\n",
    "texas_cumulative_smoothed.plot(label='smoothed').legend();"
   ]
  },
  {
   "cell_type": "markdown",
   "metadata": {},
   "source": [
    "### Lowess\n",
    "\n",
    "Locally weighted scatter plot smoothing\n",
    "\n",
    "* A low-degree polynomial regression line is fit to each point using the nearest (local) points\n",
    "* Choose number of points with `frac`"
   ]
  },
  {
   "cell_type": "code",
   "execution_count": null,
   "metadata": {},
   "outputs": [],
   "source": [
    "from statsmodels.nonparametric.smoothers_lowess import lowess\n",
    "\n",
    "n = len(texas_daily)\n",
    "x = np.arange(n)\n",
    "y = texas_daily.values\n",
    "\n",
    "frac = 21 / n\n",
    "y_lowess = lowess(y, x, frac=frac, return_sorted=False)\n",
    "texas_daily_lowess = pd.Series(y_lowess, index=texas_daily.index)\n",
    "texas_daily.plot(label='actual')\n",
    "texas_daily_lowess.plot(label='smoothed', title=\"Texas Daily Cases - Lowess Smooothed\").legend();"
   ]
  },
  {
   "cell_type": "code",
   "execution_count": null,
   "metadata": {},
   "outputs": [],
   "source": [
    "texas_cumulative_lowess = texas_daily_lowess.cumsum() + texas.iloc[0]\n",
    "texas.plot(label='actual')\n",
    "texas_cumulative_lowess.plot(label='smoothed', title=\"Texas Cumulative Cases - Lowess Smooothed\").legend();"
   ]
  },
  {
   "cell_type": "markdown",
   "metadata": {},
   "source": [
    "## Modeling with \"S\"-shaped curves\n",
    "\n",
    "* Only modeling with historical data\n",
    "* Modeling cumulative\n",
    "* [Sigmoid functions](https://en.wikipedia.org/wiki/Sigmoid_function)\n",
    "\n",
    "$$f(x) = \\frac{1}{1 + e^x}$$"
   ]
  },
  {
   "cell_type": "code",
   "execution_count": null,
   "metadata": {},
   "outputs": [],
   "source": [
    "x = np.linspace(-5, 5, 50)\n",
    "y = 1 / (1 + np.exp(x))\n",
    "fig, ax = plt.subplots()\n",
    "ax.plot(x, y)\n",
    "ax.set_title('Simple \"S\"-Curve - Logistic Function');"
   ]
  },
  {
   "cell_type": "markdown",
   "metadata": {},
   "source": [
    "Correct shape, needs to be transposed around y axis\n",
    "\n",
    "$$f(x) = \\frac{1}{1 + e^{-x}}$$"
   ]
  },
  {
   "cell_type": "code",
   "execution_count": null,
   "metadata": {},
   "outputs": [],
   "source": [
    "x = np.linspace(-5, 5, 50)\n",
    "y = 1 / (1 + np.exp(-x))\n",
    "plt.plot(x, y)\n",
    "plt.title('Logistic function transposed around y-axis');"
   ]
  },
  {
   "cell_type": "markdown",
   "metadata": {},
   "source": [
    "Increase maximum\n",
    "\n",
    "$$f(x) = \\frac{L}{1 + e^{-x}}$$"
   ]
  },
  {
   "cell_type": "code",
   "execution_count": null,
   "metadata": {},
   "outputs": [],
   "source": [
    "L = 10_000\n",
    "x = np.linspace(-5, 5, 50)\n",
    "y = L / (1 + np.exp(-x))\n",
    "plt.plot(x, y)\n",
    "plt.title(f'Logistic Function with Asymptote at {L:,}');"
   ]
  },
  {
   "cell_type": "markdown",
   "metadata": {},
   "source": [
    "Allow horizontal shift, $x_0$ is middle, inflection point.\n",
    "\n",
    "$$f(x) = \\frac{L}{1 + e^{-(x - x_0)}}$$"
   ]
  },
  {
   "cell_type": "code",
   "execution_count": null,
   "metadata": {},
   "outputs": [],
   "source": [
    "L = 10_000\n",
    "x0 = 50\n",
    "x = np.linspace(40, 60)\n",
    "y = L / (1 + np.exp(-(x - x0)))\n",
    "plt.plot(x, y)\n",
    "plt.title('Logistic Function - Scaled and Shifted');"
   ]
  },
  {
   "cell_type": "markdown",
   "metadata": {},
   "source": [
    "Allow for different growth rate (steepness)\n",
    "\n",
    "$$f(x) = \\frac{L}{1 + e^{-k(x - x_0)}}$$"
   ]
  },
  {
   "cell_type": "code",
   "execution_count": null,
   "metadata": {},
   "outputs": [],
   "source": [
    "L = 10_000\n",
    "x0 = 50\n",
    "k = 0.06\n",
    "x = np.linspace(0, 100, 50)\n",
    "y = L / (1 + np.exp(-k * (x - x0)))\n",
    "plt.plot(x, y)\n",
    "plt.title('Logistic Function - Scaled, Shfited, and Flattened');"
   ]
  },
  {
   "cell_type": "code",
   "execution_count": null,
   "metadata": {},
   "outputs": [],
   "source": [
    "def logistic(x, L, x0, k):\n",
    "    return L / (1 + np.exp(-k * (x - x0)))"
   ]
  },
  {
   "cell_type": "code",
   "execution_count": null,
   "metadata": {},
   "outputs": [],
   "source": [
    "x = np.linspace(0, 500)\n",
    "y = logistic(x, 100_000, 120, .01)\n",
    "plt.plot(x, y);"
   ]
  },
  {
   "cell_type": "markdown",
   "metadata": {},
   "source": [
    "### Manually fit logistic function to data?"
   ]
  },
  {
   "cell_type": "code",
   "execution_count": null,
   "metadata": {},
   "outputs": [],
   "source": [
    "y_texas = texas_cumulative_lowess\n",
    "def manual_fit(y, func, params):\n",
    "    n = len(y)\n",
    "    x = np.arange(n)\n",
    "    y_model = func(x, *params)\n",
    "    y_model = pd.Series(y_model, index=y.index)\n",
    "    y.plot(label='actual')\n",
    "    y_model.plot(label='model').legend()"
   ]
  },
  {
   "cell_type": "code",
   "execution_count": null,
   "metadata": {},
   "outputs": [],
   "source": [
    "# manual_fit()"
   ]
  },
  {
   "cell_type": "markdown",
   "metadata": {},
   "source": [
    "### Scipy's optimize module\n",
    "\n",
    "* Use `least_squares` function - finds parameters that minimize squared residuals\n",
    "* Create optimization function that computes residuals\n",
    "* Must create bounds for parameters\n",
    "* Must have initial guess for parameters"
   ]
  },
  {
   "cell_type": "code",
   "execution_count": null,
   "metadata": {},
   "outputs": [],
   "source": [
    "def optimize_func(params, x, y, model):\n",
    "    y_pred = model(x, *params)\n",
    "    error = y - y_pred\n",
    "    return error"
   ]
  },
  {
   "cell_type": "code",
   "execution_count": null,
   "metadata": {},
   "outputs": [],
   "source": [
    "from scipy.optimize import least_squares\n",
    "\n",
    "# bounds for parameters L, x0, and k\n",
    "lower = y_texas.iloc[-1], 20, 0.01\n",
    "upper = 4_000_000, 150, 0.5\n",
    "bounds = lower, upper\n",
    "\n",
    "# initial guess for L, x0, and k\n",
    "p0 = 3_000_000, 50, 0.1\n",
    "\n",
    "# run with verbose\n",
    "y = y_texas.values\n",
    "x = np.arange(len(y))\n",
    "res = least_squares(optimize_func, p0, args=(x, y, logistic), bounds=bounds, verbose=2)"
   ]
  },
  {
   "cell_type": "markdown",
   "metadata": {},
   "source": [
    "Fitted parameters are in `x` attribute"
   ]
  },
  {
   "cell_type": "code",
   "execution_count": null,
   "metadata": {},
   "outputs": [],
   "source": [
    "res.x"
   ]
  },
  {
   "cell_type": "code",
   "execution_count": null,
   "metadata": {},
   "outputs": [],
   "source": [
    "manual_fit(y_texas, logistic, res.x)"
   ]
  },
  {
   "cell_type": "markdown",
   "metadata": {},
   "source": [
    "## Generalized Logistic Function\n",
    "\n",
    "* [Asymmetric logistic function][0] - tail slowly trail off\n",
    "* Also allow for vertical shift\n",
    "\n",
    "\n",
    "$$f(x) = \\frac{L - s}{(1 + e^{-kx})^{\\frac{1}{v}}} + s$$\n",
    "\n",
    "[0]: https://en.wikipedia.org/wiki/Generalised_logistic_function"
   ]
  },
  {
   "cell_type": "code",
   "execution_count": null,
   "metadata": {},
   "outputs": [],
   "source": [
    "def general_logistic_shift(x, L, k, v, s):\n",
    "    return (L - s) / ((1 + np.exp(-k * x)) ** (1 / v)) + s\n",
    "\n",
    "# bounds\n",
    "lower = y_texas.iloc[-1], 0.01, 0.01, 0\n",
    "upper = 4_000_000, 0.5, 1, y_texas.iloc[-1]\n",
    "bounds = lower, upper\n",
    "\n",
    "# initial guess for L, k, v, s\n",
    "p0 = 3_000_000, 0.1, 0.1, y_texas.iloc[-1]\n",
    "\n",
    "# run with verbose\n",
    "y = y_texas.values\n",
    "x = np.arange(len(y))\n",
    "res = least_squares(optimize_func, p0, args=(x, y, general_logistic_shift), bounds=bounds, verbose=2)"
   ]
  },
  {
   "cell_type": "code",
   "execution_count": null,
   "metadata": {},
   "outputs": [],
   "source": [
    "res.x"
   ]
  },
  {
   "cell_type": "code",
   "execution_count": null,
   "metadata": {},
   "outputs": [],
   "source": [
    "manual_fit(y_texas, general_logistic_shift, res.x)"
   ]
  },
  {
   "cell_type": "markdown",
   "metadata": {},
   "source": [
    "## Modeling Deaths\n",
    "\n",
    "* Could do same thing\n",
    "* Use historical case fatality rate (fraction of cases that lead to death)"
   ]
  },
  {
   "cell_type": "code",
   "execution_count": null,
   "metadata": {},
   "outputs": [],
   "source": []
  },
  {
   "cell_type": "markdown",
   "metadata": {},
   "source": [
    "## Ensembling and modeling new waves\n",
    "\n",
    "* Modeling new waves\n",
    "    * Could model `L` as a Logistic function itself (difficult)\n",
    "    * Only allow model to see n previous days\n",
    "    * Choose many different values of n and average result"
   ]
  }
 ],
 "metadata": {
  "kernelspec": {
   "display_name": "Python 3",
   "language": "python",
   "name": "python3"
  },
  "language_info": {
   "codemirror_mode": {
    "name": "ipython",
    "version": 3
   },
   "file_extension": ".py",
   "mimetype": "text/x-python",
   "name": "python",
   "nbconvert_exporter": "python",
   "pygments_lexer": "ipython3",
   "version": "3.7.5"
  }
 },
 "nbformat": 4,
 "nbformat_minor": 5
}
